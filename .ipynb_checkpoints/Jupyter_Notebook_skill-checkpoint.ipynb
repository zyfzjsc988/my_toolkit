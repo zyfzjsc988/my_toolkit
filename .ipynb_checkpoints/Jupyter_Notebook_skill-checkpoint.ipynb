{
 "cells": [
  {
   "cell_type": "markdown",
   "metadata": {},
   "source": [
    "Information:\n",
    "\n",
    "Based on python 3.5.4 "
   ]
  },
  {
   "cell_type": "markdown",
   "metadata": {},
   "source": [
    "# Shortcut Key"
   ]
  },
  {
   "cell_type": "markdown",
   "metadata": {},
   "source": [
    "### 命令模式 (按键 Esc 开启)\n",
    "Alt-Enter : 运行本单元，在其下插入新单元\n",
    "\n",
    "Y : 单元转入代码状态   M :单元转入markdown状态   R : 单元转入raw状态\n",
    "\n",
    "1 2 3 4 5 6 : 设定 1 2 3 4 5 6 级标题\n",
    "\n",
    "Up\\K : 选中上方单元   Down\\J : 选中下方单元   Shift-K : 扩大选中上方单元   Shift-J : 扩大选中下方单元\n",
    "\n",
    "A : 在上方插入新单元   B : 在下方插入新单元\n",
    "\n",
    "X : 剪切选中的单元  C : 复制选中的单元  Shift-V : 粘贴到上方单元  V : 粘贴到下方单元\n",
    "\n",
    "Z : 恢复删除的最后一个单元    D,D : 删除选中的单元\n",
    "\n",
    "Shift-M : 合并选中的单元\n",
    "\n",
    "Ctrl-S : 文件存盘   S : 文件存盘\n",
    "\n",
    "L : 转换行号    O : 转换输出   Shift-O : 转换输出滚动\n",
    "\n",
    "Esc : 关闭页面    Q : 关闭页面    \n",
    "\n",
    "H : 显示快捷键帮助\n",
    "\n",
    "I,I : 中断Notebook内核    0,0 : 重启Notebook内核\n",
    "\n",
    "Shift : 忽略\n",
    "\n",
    "Shift-Space : 向上滚动   Space : 向下滚动\n",
    "\n",
    "### windows \n",
    "Ctrl-Shift-P: 快键键字典\n",
    "\n",
    "F 查找和替换`"
   ]
  },
  {
   "cell_type": "markdown",
   "metadata": {},
   "source": [
    "### 编辑模式 ( Enter 键启动)\n",
    "Tab : 代码补全或缩进  \n",
    "\n",
    "Ctrl-] : 缩进    Ctrl-[ : 解除缩进\n",
    "\n",
    "Ctrl-Home\\Up : 跳到单元开头   Ctrl-End\\Down : 跳到单元末尾\n",
    "\n",
    "Ctrl-Left : 跳到左边一个字首   Ctrl-Right : 跳到右边一个字首\n",
    "\n",
    "Ctrl-Backspace : 删除前面一个字    Ctrl-Delete : 删除后面一个字\n",
    "\n",
    "Ctrl-Shift-- : 分割单元\n",
    "\n",
    "Ctrl-S : 文件存盘"
   ]
  },
  {
   "cell_type": "markdown",
   "metadata": {},
   "source": [
    "# Commend key\n",
    "from https://www.dataquest.io/blog/jupyter-notebook-tips-tricks-shortcuts/"
   ]
  },
  {
   "cell_type": "markdown",
   "metadata": {},
   "source": [
    "### 多输出\n",
    "\n",
    "    from IPython.core.interactiveshell import InteractiveShell\n",
    "    InteractiveShell.ast_node_interactivity = \"all\"\n",
    "\n",
    "### Help\n",
    "?str.replace() 在函数名面前加一个‘？’\n",
    "\n",
    "或者 help(函数名) 需要pd.DataFrame这种格式 也得先import\n",
    "import pandas as pd\n",
    "?pd.DataFrame\n",
    "\n",
    "### 抑制最终的输出\n",
    "; in final\n",
    "\n",
    "### Shell命令\n",
    "!\n",
    "### 从笔记本中的其他内核运行代码\n",
    "%%bash\n",
    "\n",
    "## IPython Magic Commands \n",
    "所有命令在这里 \n",
    "http://ipython.readthedocs.io/en/stable/interactive/magics.html\n",
    "### %matplotlib 显示\n",
    "    %matplotlib inline  #不需要写show实时显示图像\n",
    "### ％env：设置环境变量\n",
    "    %env OMP_NUM_THREADS=4\n",
    "### ％run：执行python代码\n",
    "    %run ./two-histograms.ipynb\n",
    "### ％load：从外部脚本插入代码 (文件路径或者URL)\n",
    "Before Running\n",
    "\n",
    "    %load ./hello_world.py\n",
    "    \n",
    "After Running\n",
    "    #%load ./hello_world.py\n",
    "    if __name__ == \"__main__\":\n",
    "        print(\"Hello World!\")\n",
    "### ％who：列出全局范围的所有变量\n",
    "    one = \"for the money\"\n",
    "    two = \"for the show\"\n",
    "    three = \"to get ready now go cat go\" \n",
    "    %who str\n",
    "### %%time 时间\n",
    "### %% writefile：导出单元格的内容\n",
    "    %%writefile pythoncode.py\n",
    "### %prun: Show how much time your program spent in each function.\n",
    "    %prun some_useless_slow_function()\n"
   ]
  },
  {
   "cell_type": "code",
   "execution_count": null,
   "metadata": {
    "collapsed": true
   },
   "outputs": [],
   "source": []
  }
 ],
 "metadata": {
  "kernelspec": {
   "display_name": "Python 3",
   "language": "python",
   "name": "python3"
  },
  "language_info": {
   "codemirror_mode": {
    "name": "ipython",
    "version": 3
   },
   "file_extension": ".py",
   "mimetype": "text/x-python",
   "name": "python",
   "nbconvert_exporter": "python",
   "pygments_lexer": "ipython3",
   "version": "3.5.4"
  },
  "varInspector": {
   "cols": {
    "lenName": 16,
    "lenType": 16,
    "lenVar": 40
   },
   "kernels_config": {
    "python": {
     "delete_cmd_postfix": "",
     "delete_cmd_prefix": "del ",
     "library": "var_list.py",
     "varRefreshCmd": "print(var_dic_list())"
    },
    "r": {
     "delete_cmd_postfix": ") ",
     "delete_cmd_prefix": "rm(",
     "library": "var_list.r",
     "varRefreshCmd": "cat(var_dic_list()) "
    }
   },
   "types_to_exclude": [
    "module",
    "function",
    "builtin_function_or_method",
    "instance",
    "_Feature"
   ],
   "window_display": false
  }
 },
 "nbformat": 4,
 "nbformat_minor": 0
}
